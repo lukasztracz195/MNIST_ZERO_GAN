{
  "nbformat": 4,
  "nbformat_minor": 0,
  "metadata": {
    "colab": {
      "name": "MNIST_ZERO_GAN.ipynb",
      "provenance": [],
      "authorship_tag": "ABX9TyMpTYztp1PEAkSBxEaz0n/Z",
      "include_colab_link": true
    },
    "kernelspec": {
      "name": "python3",
      "display_name": "Python 3"
    },
    "accelerator": "TPU"
  },
  "cells": [
    {
      "cell_type": "markdown",
      "metadata": {
        "id": "view-in-github",
        "colab_type": "text"
      },
      "source": [
        "<a href=\"https://colab.research.google.com/github/lukasztracz195/MNIST_ZERO_GAN/blob/main/MNIST_ALL_DIGITS_GAN_AFTER_10_EPOCS.ipynb\" target=\"_parent\"><img src=\"https://colab.research.google.com/assets/colab-badge.svg\" alt=\"Open In Colab\"/></a>"
      ]
    },
    {
      "cell_type": "markdown",
      "metadata": {
        "id": "lKVLgcQ7of5G"
      },
      "source": [
        "#Implementacja sieci GAN do nauczenia się jak wygląda liczba 0"
      ]
    },
    {
      "cell_type": "markdown",
      "metadata": {
        "id": "6nidgsnwou0G"
      },
      "source": [
        "##Import bibliotek"
      ]
    },
    {
      "cell_type": "markdown",
      "metadata": {
        "id": "dvfboNizy-2W"
      },
      "source": [
        "###Ustawienie odpowiedniej biblioteki TensoreFlow"
      ]
    },
    {
      "cell_type": "code",
      "metadata": {
        "colab": {
          "base_uri": "https://localhost:8080/",
          "height": 958
        },
        "id": "TPR7bSbnvnIK",
        "outputId": "f927e773-0ca9-482f-eb67-a8a3cc9ee195"
      },
      "source": [
        "# To determine which version you're using:\r\n",
        "!pip show tensorflow\r\n",
        "\r\n",
        "# For a specific version:\r\n",
        "!pip install tensorflow==1.9"
      ],
      "execution_count": 1,
      "outputs": [
        {
          "output_type": "stream",
          "text": [
            "Name: tensorflow\n",
            "Version: 2.3.0\n",
            "Summary: TensorFlow is an open source machine learning framework for everyone.\n",
            "Home-page: https://www.tensorflow.org/\n",
            "Author: Google Inc.\n",
            "Author-email: packages@tensorflow.org\n",
            "License: Apache 2.0\n",
            "Location: /usr/local/lib/python3.6/dist-packages\n",
            "Requires: tensorflow-estimator, google-pasta, opt-einsum, gast, grpcio, scipy, wrapt, six, protobuf, h5py, numpy, wheel, tensorboard, absl-py, keras-preprocessing, astunparse, termcolor\n",
            "Required-by: fancyimpute\n",
            "Collecting tensorflow==1.9\n",
            "\u001b[?25l  Downloading https://files.pythonhosted.org/packages/86/95/274190b39950e1e9eef4b071acefea832ac3e2c19bb4b442fa54f3214d2e/tensorflow-1.9.0-cp36-cp36m-manylinux1_x86_64.whl (51.1MB)\n",
            "\u001b[K     |████████████████████████████████| 51.1MB 79kB/s \n",
            "\u001b[?25hRequirement already satisfied: absl-py>=0.1.6 in /usr/local/lib/python3.6/dist-packages (from tensorflow==1.9) (0.10.0)\n",
            "Collecting tensorboard<1.10.0,>=1.9.0\n",
            "\u001b[?25l  Downloading https://files.pythonhosted.org/packages/9e/1f/3da43860db614e294a034e42d4be5c8f7f0d2c75dc1c428c541116d8cdab/tensorboard-1.9.0-py3-none-any.whl (3.3MB)\n",
            "\u001b[K     |████████████████████████████████| 3.3MB 46.9MB/s \n",
            "\u001b[?25hRequirement already satisfied: six>=1.10.0 in /usr/local/lib/python3.6/dist-packages (from tensorflow==1.9) (1.15.0)\n",
            "Requirement already satisfied: gast>=0.2.0 in /usr/local/lib/python3.6/dist-packages (from tensorflow==1.9) (0.3.3)\n",
            "Requirement already satisfied: astor>=0.6.0 in /usr/local/lib/python3.6/dist-packages (from tensorflow==1.9) (0.8.1)\n",
            "Collecting setuptools<=39.1.0\n",
            "\u001b[?25l  Downloading https://files.pythonhosted.org/packages/8c/10/79282747f9169f21c053c562a0baa21815a8c7879be97abd930dbcf862e8/setuptools-39.1.0-py2.py3-none-any.whl (566kB)\n",
            "\u001b[K     |████████████████████████████████| 573kB 43.3MB/s \n",
            "\u001b[?25hRequirement already satisfied: grpcio>=1.8.6 in /usr/local/lib/python3.6/dist-packages (from tensorflow==1.9) (1.34.0)\n",
            "Requirement already satisfied: termcolor>=1.1.0 in /usr/local/lib/python3.6/dist-packages (from tensorflow==1.9) (1.1.0)\n",
            "Requirement already satisfied: numpy>=1.13.3 in /usr/local/lib/python3.6/dist-packages (from tensorflow==1.9) (1.18.5)\n",
            "Requirement already satisfied: wheel>=0.26 in /usr/local/lib/python3.6/dist-packages (from tensorflow==1.9) (0.36.1)\n",
            "Requirement already satisfied: protobuf>=3.4.0 in /usr/local/lib/python3.6/dist-packages (from tensorflow==1.9) (3.12.4)\n",
            "Requirement already satisfied: markdown>=2.6.8 in /usr/local/lib/python3.6/dist-packages (from tensorboard<1.10.0,>=1.9.0->tensorflow==1.9) (3.3.3)\n",
            "Requirement already satisfied: werkzeug>=0.11.10 in /usr/local/lib/python3.6/dist-packages (from tensorboard<1.10.0,>=1.9.0->tensorflow==1.9) (1.0.1)\n",
            "Requirement already satisfied: importlib-metadata; python_version < \"3.8\" in /usr/local/lib/python3.6/dist-packages (from markdown>=2.6.8->tensorboard<1.10.0,>=1.9.0->tensorflow==1.9) (3.1.1)\n",
            "Requirement already satisfied: zipp>=0.5 in /usr/local/lib/python3.6/dist-packages (from importlib-metadata; python_version < \"3.8\"->markdown>=2.6.8->tensorboard<1.10.0,>=1.9.0->tensorflow==1.9) (3.4.0)\n",
            "\u001b[31mERROR: xarray 0.15.1 has requirement setuptools>=41.2, but you'll have setuptools 39.1.0 which is incompatible.\u001b[0m\n",
            "\u001b[31mERROR: google-auth 1.17.2 has requirement setuptools>=40.3.0, but you'll have setuptools 39.1.0 which is incompatible.\u001b[0m\n",
            "\u001b[31mERROR: datascience 0.10.6 has requirement folium==0.2.1, but you'll have folium 0.8.3 which is incompatible.\u001b[0m\n",
            "Installing collected packages: tensorboard, setuptools, tensorflow\n",
            "  Found existing installation: tensorboard 2.3.0\n",
            "    Uninstalling tensorboard-2.3.0:\n",
            "      Successfully uninstalled tensorboard-2.3.0\n",
            "  Found existing installation: setuptools 50.3.2\n",
            "    Uninstalling setuptools-50.3.2:\n",
            "      Successfully uninstalled setuptools-50.3.2\n",
            "  Found existing installation: tensorflow 2.3.0\n",
            "    Uninstalling tensorflow-2.3.0:\n",
            "      Successfully uninstalled tensorflow-2.3.0\n",
            "Successfully installed setuptools-39.1.0 tensorboard-1.9.0 tensorflow-1.9.0\n"
          ],
          "name": "stdout"
        },
        {
          "output_type": "display_data",
          "data": {
            "application/vnd.colab-display-data+json": {
              "pip_warning": {
                "packages": [
                  "pkg_resources"
                ]
              }
            }
          },
          "metadata": {
            "tags": []
          }
        }
      ]
    },
    {
      "cell_type": "markdown",
      "metadata": {
        "id": "Nzjax055zJI_"
      },
      "source": [
        "###Instalacja odpowiedniej biblioteki Keras"
      ]
    },
    {
      "cell_type": "code",
      "metadata": {
        "colab": {
          "base_uri": "https://localhost:8080/"
        },
        "id": "EC33oThgzMUl",
        "outputId": "1377cab3-8b00-47a6-8adc-14a0160089af"
      },
      "source": [
        "!pip3 install keras==2.0\r\n",
        "!pip3 show keras"
      ],
      "execution_count": 2,
      "outputs": [
        {
          "output_type": "stream",
          "text": [
            "Collecting keras==2.0\n",
            "\u001b[?25l  Downloading https://files.pythonhosted.org/packages/95/bf/98ce2f2ab1364f6e83c0ffc5216fff3058fd990d8a3b957ebad3a6cedeeb/Keras-2.0.0.tar.gz (191kB)\n",
            "\u001b[K     |████████████████████████████████| 194kB 6.7MB/s \n",
            "\u001b[?25hRequirement already satisfied: tensorflow in /usr/local/lib/python3.6/dist-packages (from keras==2.0) (1.9.0)\n",
            "Requirement already satisfied: pyyaml in /usr/local/lib/python3.6/dist-packages (from keras==2.0) (3.13)\n",
            "Requirement already satisfied: six in /usr/local/lib/python3.6/dist-packages (from keras==2.0) (1.15.0)\n",
            "Requirement already satisfied: grpcio>=1.8.6 in /usr/local/lib/python3.6/dist-packages (from tensorflow->keras==2.0) (1.34.0)\n",
            "Requirement already satisfied: numpy>=1.13.3 in /usr/local/lib/python3.6/dist-packages (from tensorflow->keras==2.0) (1.18.5)\n",
            "Requirement already satisfied: tensorboard<1.10.0,>=1.9.0 in /usr/local/lib/python3.6/dist-packages (from tensorflow->keras==2.0) (1.9.0)\n",
            "Requirement already satisfied: termcolor>=1.1.0 in /usr/local/lib/python3.6/dist-packages (from tensorflow->keras==2.0) (1.1.0)\n",
            "Requirement already satisfied: absl-py>=0.1.6 in /usr/local/lib/python3.6/dist-packages (from tensorflow->keras==2.0) (0.10.0)\n",
            "Requirement already satisfied: wheel>=0.26 in /usr/local/lib/python3.6/dist-packages (from tensorflow->keras==2.0) (0.36.1)\n",
            "Requirement already satisfied: protobuf>=3.4.0 in /usr/local/lib/python3.6/dist-packages (from tensorflow->keras==2.0) (3.12.4)\n",
            "Requirement already satisfied: astor>=0.6.0 in /usr/local/lib/python3.6/dist-packages (from tensorflow->keras==2.0) (0.8.1)\n",
            "Requirement already satisfied: gast>=0.2.0 in /usr/local/lib/python3.6/dist-packages (from tensorflow->keras==2.0) (0.3.3)\n",
            "Requirement already satisfied: setuptools<=39.1.0 in /usr/local/lib/python3.6/dist-packages (from tensorflow->keras==2.0) (39.1.0)\n",
            "Requirement already satisfied: markdown>=2.6.8 in /usr/local/lib/python3.6/dist-packages (from tensorboard<1.10.0,>=1.9.0->tensorflow->keras==2.0) (3.3.3)\n",
            "Requirement already satisfied: werkzeug>=0.11.10 in /usr/local/lib/python3.6/dist-packages (from tensorboard<1.10.0,>=1.9.0->tensorflow->keras==2.0) (1.0.1)\n",
            "Requirement already satisfied: importlib-metadata; python_version < \"3.8\" in /usr/local/lib/python3.6/dist-packages (from markdown>=2.6.8->tensorboard<1.10.0,>=1.9.0->tensorflow->keras==2.0) (3.1.1)\n",
            "Requirement already satisfied: zipp>=0.5 in /usr/local/lib/python3.6/dist-packages (from importlib-metadata; python_version < \"3.8\"->markdown>=2.6.8->tensorboard<1.10.0,>=1.9.0->tensorflow->keras==2.0) (3.4.0)\n",
            "Building wheels for collected packages: keras\n",
            "  Building wheel for keras (setup.py) ... \u001b[?25l\u001b[?25hdone\n",
            "  Created wheel for keras: filename=Keras-2.0.0-cp36-none-any.whl size=227985 sha256=3012c261ffd5f438521f7fd1926fa3741326232e36631f5f0ba2a0a5c7e76d4b\n",
            "  Stored in directory: /root/.cache/pip/wheels/b0/a1/f4/f5f6a53dd71728cae0176b860f8c4304dd5d3fc2b8387ef59c\n",
            "Successfully built keras\n",
            "\u001b[31mERROR: textgenrnn 1.4.1 has requirement keras>=2.1.5, but you'll have keras 2.0.0 which is incompatible.\u001b[0m\n",
            "Installing collected packages: keras\n",
            "  Found existing installation: Keras 2.4.3\n",
            "    Uninstalling Keras-2.4.3:\n",
            "      Successfully uninstalled Keras-2.4.3\n",
            "Successfully installed keras-2.0.0\n",
            "Name: Keras\n",
            "Version: 2.0.0\n",
            "Summary: Deep Learning for Python\n",
            "Home-page: https://github.com/fchollet/keras\n",
            "Author: Francois Chollet\n",
            "Author-email: francois.chollet@gmail.com\n",
            "License: MIT\n",
            "Location: /usr/local/lib/python3.6/dist-packages\n",
            "Requires: six, tensorflow, pyyaml\n",
            "Required-by: textgenrnn, keras-vis, kapre, fancyimpute\n"
          ],
          "name": "stdout"
        }
      ]
    },
    {
      "cell_type": "markdown",
      "metadata": {
        "id": "4VD3IFZgzOOm"
      },
      "source": [
        "###Instalacja odpowiednich zbiorów danych"
      ]
    },
    {
      "cell_type": "code",
      "metadata": {
        "colab": {
          "base_uri": "https://localhost:8080/"
        },
        "id": "ofdYe-PBskUU",
        "outputId": "5c72f4e2-625e-4133-e68b-437515e69441"
      },
      "source": [
        "%%bash\r\n",
        "pip install python-mnist\r\n",
        "pip install tensorflow-datasets"
      ],
      "execution_count": 3,
      "outputs": [
        {
          "output_type": "stream",
          "text": [
            "Collecting python-mnist\n",
            "  Downloading https://files.pythonhosted.org/packages/64/f0/6086b84427c3bf156ec0b3c2f9dfc1d770b35f942b9ed8a64f5229776a80/python_mnist-0.7-py2.py3-none-any.whl\n",
            "Installing collected packages: python-mnist\n",
            "Successfully installed python-mnist-0.7\n",
            "Requirement already satisfied: tensorflow-datasets in /usr/local/lib/python3.6/dist-packages (4.0.1)\n",
            "Requirement already satisfied: dm-tree in /usr/local/lib/python3.6/dist-packages (from tensorflow-datasets) (0.1.5)\n",
            "Requirement already satisfied: dill in /usr/local/lib/python3.6/dist-packages (from tensorflow-datasets) (0.3.3)\n",
            "Requirement already satisfied: promise in /usr/local/lib/python3.6/dist-packages (from tensorflow-datasets) (2.3)\n",
            "Requirement already satisfied: importlib-resources; python_version < \"3.9\" in /usr/local/lib/python3.6/dist-packages (from tensorflow-datasets) (3.3.0)\n",
            "Requirement already satisfied: six in /usr/local/lib/python3.6/dist-packages (from tensorflow-datasets) (1.15.0)\n",
            "Requirement already satisfied: dataclasses; python_version < \"3.7\" in /usr/local/lib/python3.6/dist-packages (from tensorflow-datasets) (0.8)\n",
            "Requirement already satisfied: future in /usr/local/lib/python3.6/dist-packages (from tensorflow-datasets) (0.16.0)\n",
            "Requirement already satisfied: tqdm in /usr/local/lib/python3.6/dist-packages (from tensorflow-datasets) (4.41.1)\n",
            "Requirement already satisfied: absl-py in /usr/local/lib/python3.6/dist-packages (from tensorflow-datasets) (0.10.0)\n",
            "Requirement already satisfied: tensorflow-metadata in /usr/local/lib/python3.6/dist-packages (from tensorflow-datasets) (0.25.0)\n",
            "Requirement already satisfied: attrs>=18.1.0 in /usr/local/lib/python3.6/dist-packages (from tensorflow-datasets) (20.3.0)\n",
            "Requirement already satisfied: requests>=2.19.0 in /usr/local/lib/python3.6/dist-packages (from tensorflow-datasets) (2.23.0)\n",
            "Requirement already satisfied: termcolor in /usr/local/lib/python3.6/dist-packages (from tensorflow-datasets) (1.1.0)\n",
            "Requirement already satisfied: numpy in /usr/local/lib/python3.6/dist-packages (from tensorflow-datasets) (1.18.5)\n",
            "Requirement already satisfied: protobuf>=3.6.1 in /usr/local/lib/python3.6/dist-packages (from tensorflow-datasets) (3.12.4)\n",
            "Requirement already satisfied: zipp>=0.4; python_version < \"3.8\" in /usr/local/lib/python3.6/dist-packages (from importlib-resources; python_version < \"3.9\"->tensorflow-datasets) (3.4.0)\n",
            "Requirement already satisfied: googleapis-common-protos<2,>=1.52.0 in /usr/local/lib/python3.6/dist-packages (from tensorflow-metadata->tensorflow-datasets) (1.52.0)\n",
            "Requirement already satisfied: urllib3!=1.25.0,!=1.25.1,<1.26,>=1.21.1 in /usr/local/lib/python3.6/dist-packages (from requests>=2.19.0->tensorflow-datasets) (1.24.3)\n",
            "Requirement already satisfied: idna<3,>=2.5 in /usr/local/lib/python3.6/dist-packages (from requests>=2.19.0->tensorflow-datasets) (2.10)\n",
            "Requirement already satisfied: certifi>=2017.4.17 in /usr/local/lib/python3.6/dist-packages (from requests>=2.19.0->tensorflow-datasets) (2020.12.5)\n",
            "Requirement already satisfied: chardet<4,>=3.0.2 in /usr/local/lib/python3.6/dist-packages (from requests>=2.19.0->tensorflow-datasets) (3.0.4)\n",
            "Requirement already satisfied: setuptools in /usr/local/lib/python3.6/dist-packages (from protobuf>=3.6.1->tensorflow-datasets) (39.1.0)\n"
          ],
          "name": "stdout"
        }
      ]
    },
    {
      "cell_type": "code",
      "metadata": {
        "colab": {
          "base_uri": "https://localhost:8080/"
        },
        "id": "jcYUjNiPoRQx",
        "outputId": "1ff1e7ec-644f-4e9b-8955-a139a7397020"
      },
      "source": [
        "import numpy as np\r\n",
        "import time\r\n",
        "\r\n",
        "from tensorflow.examples.tutorials.mnist import input_data\r\n",
        "from tensorflow.keras import layers\r\n",
        "\r\n",
        "from keras.models import Sequential\r\n",
        "from keras.layers import Dense, Activation, Flatten, Reshape\r\n",
        "from keras.layers import Conv2D, Conv2DTranspose, UpSampling2D\r\n",
        "from keras.layers import LeakyReLU, Dropout\r\n",
        "from keras.layers import BatchNormalization\r\n",
        "from keras.optimizers import Adam, RMSprop\r\n",
        "\r\n",
        "import matplotlib.pyplot as plt"
      ],
      "execution_count": 4,
      "outputs": [
        {
          "output_type": "stream",
          "text": [
            "/usr/local/lib/python3.6/dist-packages/tensorflow/python/framework/dtypes.py:523: FutureWarning: Passing (type, 1) or '1type' as a synonym of type is deprecated; in a future version of numpy, it will be understood as (type, (1,)) / '(1,)type'.\n",
            "  _np_qint8 = np.dtype([(\"qint8\", np.int8, 1)])\n",
            "/usr/local/lib/python3.6/dist-packages/tensorflow/python/framework/dtypes.py:524: FutureWarning: Passing (type, 1) or '1type' as a synonym of type is deprecated; in a future version of numpy, it will be understood as (type, (1,)) / '(1,)type'.\n",
            "  _np_quint8 = np.dtype([(\"quint8\", np.uint8, 1)])\n",
            "/usr/local/lib/python3.6/dist-packages/tensorflow/python/framework/dtypes.py:525: FutureWarning: Passing (type, 1) or '1type' as a synonym of type is deprecated; in a future version of numpy, it will be understood as (type, (1,)) / '(1,)type'.\n",
            "  _np_qint16 = np.dtype([(\"qint16\", np.int16, 1)])\n",
            "/usr/local/lib/python3.6/dist-packages/tensorflow/python/framework/dtypes.py:526: FutureWarning: Passing (type, 1) or '1type' as a synonym of type is deprecated; in a future version of numpy, it will be understood as (type, (1,)) / '(1,)type'.\n",
            "  _np_quint16 = np.dtype([(\"quint16\", np.uint16, 1)])\n",
            "/usr/local/lib/python3.6/dist-packages/tensorflow/python/framework/dtypes.py:527: FutureWarning: Passing (type, 1) or '1type' as a synonym of type is deprecated; in a future version of numpy, it will be understood as (type, (1,)) / '(1,)type'.\n",
            "  _np_qint32 = np.dtype([(\"qint32\", np.int32, 1)])\n",
            "/usr/local/lib/python3.6/dist-packages/tensorflow/python/framework/dtypes.py:532: FutureWarning: Passing (type, 1) or '1type' as a synonym of type is deprecated; in a future version of numpy, it will be understood as (type, (1,)) / '(1,)type'.\n",
            "  np_resource = np.dtype([(\"resource\", np.ubyte, 1)])\n",
            "Using TensorFlow backend.\n"
          ],
          "name": "stderr"
        }
      ]
    },
    {
      "cell_type": "markdown",
      "metadata": {
        "id": "kP7hfNWqpp8e"
      },
      "source": [
        "#Implementacja klasy ElapsedTimer"
      ]
    },
    {
      "cell_type": "code",
      "metadata": {
        "id": "MD-GacLkpFx4"
      },
      "source": [
        "class ElapsedTimer(object):\r\n",
        "    def __init__(self):\r\n",
        "        self.start_time = time.time()\r\n",
        "    def elapsed(self,sec):\r\n",
        "        if sec < 60:\r\n",
        "            return str(sec) + \" sec\"\r\n",
        "        elif sec < (60 * 60):\r\n",
        "            return str(sec / 60) + \" min\"\r\n",
        "        else:\r\n",
        "            return str(sec / (60 * 60)) + \" hr\"\r\n",
        "    def elapsed_time(self):\r\n",
        "        print(\"Elapsed: %s \" % self.elapsed(time.time() - self.start_time) )"
      ],
      "execution_count": 5,
      "outputs": []
    },
    {
      "cell_type": "markdown",
      "metadata": {
        "id": "mJ_G1aTHoqff"
      },
      "source": [
        "#Implementacja klasy DCGAN\r\n"
      ]
    },
    {
      "cell_type": "code",
      "metadata": {
        "id": "gZ-WvXbkokXm"
      },
      "source": [
        "class DCGAN(object):\r\n",
        "    def __init__(self, img_rows=28, img_cols=28, channel=1):\r\n",
        "\r\n",
        "        self.img_rows = img_rows\r\n",
        "        self.img_cols = img_cols\r\n",
        "        self.channel = channel\r\n",
        "        self.D = None   # discriminator\r\n",
        "        self.G = None   # generator\r\n",
        "        self.AM = None  # adversarial model // model przeciwności\r\n",
        "        self.DM = None  # discriminator model // model dyskrymiancji\r\n",
        "\r\n",
        "    # (W−F+2P)/S+1\r\n",
        "    def discriminator(self):\r\n",
        "        if self.D:\r\n",
        "            return self.D\r\n",
        "        self.D = Sequential()\r\n",
        "        depth = 64\r\n",
        "        dropout = 0.4\r\n",
        "        # In: 28 x 28 x 1, depth = 1\r\n",
        "        # Out: 14 x 14 x 1, depth=64\r\n",
        "        input_shape = (self.img_rows, self.img_cols, self.channel)\r\n",
        "        self.D.add(Conv2D(depth*1, 5, strides=2, input_shape=input_shape,\\\r\n",
        "            padding='same'))\r\n",
        "        self.D.add(LeakyReLU(alpha=0.2))\r\n",
        "        self.D.add(Dropout(dropout))\r\n",
        "\r\n",
        "        self.D.add(Conv2D(depth*2, 5, strides=2, padding='same'))\r\n",
        "        self.D.add(LeakyReLU(alpha=0.2))\r\n",
        "        self.D.add(Dropout(dropout))\r\n",
        "\r\n",
        "        self.D.add(Conv2D(depth*4, 5, strides=2, padding='same'))\r\n",
        "        self.D.add(LeakyReLU(alpha=0.2))\r\n",
        "        self.D.add(Dropout(dropout))\r\n",
        "\r\n",
        "        self.D.add(Conv2D(depth*8, 5, strides=1, padding='same'))\r\n",
        "        self.D.add(LeakyReLU(alpha=0.2))\r\n",
        "        self.D.add(Dropout(dropout))\r\n",
        "\r\n",
        "        # Out: 1-dim probability\r\n",
        "        self.D.add(Flatten())\r\n",
        "        self.D.add(Dense(1))\r\n",
        "        self.D.add(Activation('sigmoid'))\r\n",
        "        self.D.summary()\r\n",
        "        return self.D\r\n",
        "\r\n",
        "    def generator(self):\r\n",
        "        if self.G:\r\n",
        "            return self.G\r\n",
        "        self.G = Sequential()\r\n",
        "        dropout = 0.4\r\n",
        "        depth = 64+64+64+64\r\n",
        "        dim = 7\r\n",
        "        # In: 100\r\n",
        "        # Out: dim x dim x depth\r\n",
        "        self.G.add(Dense(dim*dim*depth, input_dim=100))\r\n",
        "        self.G.add(BatchNormalization(momentum=0.9))\r\n",
        "        self.G.add(Activation('relu'))\r\n",
        "        self.G.add(Reshape((dim, dim, depth)))\r\n",
        "        self.G.add(Dropout(dropout))\r\n",
        "\r\n",
        "        # In: dim x dim x depth\r\n",
        "        # Out: 2*dim x 2*dim x depth/2\r\n",
        "        self.G.add(UpSampling2D())\r\n",
        "        self.G.add(Conv2DTranspose(int(depth/2), 5, padding='same'))\r\n",
        "        self.G.add(BatchNormalization(momentum=0.9))\r\n",
        "        self.G.add(Activation('relu'))\r\n",
        "\r\n",
        "        self.G.add(UpSampling2D())\r\n",
        "        self.G.add(Conv2DTranspose(int(depth/4), 5, padding='same'))\r\n",
        "        self.G.add(BatchNormalization(momentum=0.9))\r\n",
        "        self.G.add(Activation('relu'))\r\n",
        "\r\n",
        "        self.G.add(Conv2DTranspose(int(depth/8), 5, padding='same'))\r\n",
        "        self.G.add(BatchNormalization(momentum=0.9))\r\n",
        "        self.G.add(Activation('relu'))\r\n",
        "\r\n",
        "        # Out: 28 x 28 x 1 grayscale image [0.0,1.0] per pix\r\n",
        "        self.G.add(Conv2DTranspose(1, 5, padding='same'))\r\n",
        "        self.G.add(Activation('sigmoid'))\r\n",
        "        self.G.summary()\r\n",
        "        return self.G\r\n",
        "\r\n",
        "    def discriminator_model(self):\r\n",
        "        if self.DM:\r\n",
        "            return self.DM\r\n",
        "        optimizer = RMSprop(lr=0.0002, decay=6e-8)\r\n",
        "        self.DM = Sequential()\r\n",
        "        self.DM.add(self.discriminator())\r\n",
        "        self.DM.compile(loss='binary_crossentropy', optimizer=optimizer,\\\r\n",
        "            metrics=['accuracy'])\r\n",
        "        return self.DM\r\n",
        "\r\n",
        "    def adversarial_model(self):\r\n",
        "        if self.AM:\r\n",
        "            return self.AM\r\n",
        "        optimizer = RMSprop(lr=0.0001, decay=3e-8)\r\n",
        "        self.AM = Sequential()\r\n",
        "        self.AM.add(self.generator())\r\n",
        "        self.AM.add(self.discriminator())\r\n",
        "        self.AM.compile(loss='binary_crossentropy', optimizer=optimizer,\\\r\n",
        "            metrics=['accuracy'])\r\n",
        "        return self.AM\r\n",
        "\r\n"
      ],
      "execution_count": 6,
      "outputs": []
    },
    {
      "cell_type": "markdown",
      "metadata": {
        "id": "xwn2TBU6r1Y5"
      },
      "source": [
        "#Implementacja klasy MNIST_DCGAN"
      ]
    },
    {
      "cell_type": "code",
      "metadata": {
        "id": "t7qldMPir05i"
      },
      "source": [
        "class MNIST_DCGAN(object):\r\n",
        "    def __init__(self):\r\n",
        "        self.img_rows = 28\r\n",
        "        self.img_cols = 28\r\n",
        "        self.channel = 1\r\n",
        "\r\n",
        "        self.x_train = input_data.read_data_sets(\"mnist\",\\\r\n",
        "        \tone_hot=True).train.images\r\n",
        "        self.x_train = self.x_train.reshape(-1, self.img_rows,\\\r\n",
        "        \tself.img_cols, 1).astype(np.float32)\r\n",
        "\r\n",
        "        self.DCGAN = DCGAN()\r\n",
        "        self.discriminator =  self.DCGAN.discriminator_model()\r\n",
        "        self.adversarial = self.DCGAN.adversarial_model()\r\n",
        "        self.generator = self.DCGAN.generator()\r\n",
        "\r\n",
        "    def train(self, train_steps=2000, batch_size=256, save_interval=0):\r\n",
        "        noise_input = None\r\n",
        "        if save_interval>0:\r\n",
        "            noise_input = np.random.uniform(-1.0, 1.0, size=[16, 100])\r\n",
        "        for i in range(train_steps):\r\n",
        "            images_train = self.x_train[np.random.randint(0,\r\n",
        "                self.x_train.shape[0], size=batch_size), :, :, :]\r\n",
        "            noise = np.random.uniform(-1.0, 1.0, size=[batch_size, 100])\r\n",
        "            images_fake = self.generator.predict(noise)\r\n",
        "            x = np.concatenate((images_train, images_fake))\r\n",
        "            y = np.ones([2*batch_size, 1])\r\n",
        "            y[batch_size:, :] = 0\r\n",
        "            d_loss = self.discriminator.train_on_batch(x, y)\r\n",
        "\r\n",
        "            y = np.ones([batch_size, 1])\r\n",
        "            noise = np.random.uniform(-1.0, 1.0, size=[batch_size, 100])\r\n",
        "            a_loss = self.adversarial.train_on_batch(noise, y)\r\n",
        "            log_mesg = \"%d: [Discriminator loss: %f, acc: %f]\" % (i, d_loss[0], d_loss[1])\r\n",
        "            log_mesg = \"%s  [Generator loss: %f, acc: %f]\" % (log_mesg, a_loss[0], a_loss[1])\r\n",
        "            print(log_mesg)\r\n",
        "            if save_interval>0:\r\n",
        "                if (i+1)%save_interval==0:\r\n",
        "                    self.plot_images(save2file=True, samples=noise_input.shape[0],\\\r\n",
        "                        noise=noise_input, step=(i+1))\r\n",
        "\r\n",
        "    def plot_images(self, save2file=False, fake=True, samples=16, noise=None, step=0):\r\n",
        "        filename = 'mnist.png'\r\n",
        "        if fake:\r\n",
        "            if noise is None:\r\n",
        "                noise = np.random.uniform(-1.0, 1.0, size=[samples, 100])\r\n",
        "            else:\r\n",
        "                filename = \"mnist_%d.png\" % step\r\n",
        "            images = self.generator.predict(noise)\r\n",
        "        else:\r\n",
        "            i = np.random.randint(0, self.x_train.shape[0], samples)\r\n",
        "            images = self.x_train[i, :, :, :]\r\n",
        "\r\n",
        "        plt.figure(figsize=(10,10))\r\n",
        "        for i in range(images.shape[0]):\r\n",
        "            plt.subplot(4, 4, i+1)\r\n",
        "            image = images[i, :, :, :]\r\n",
        "            image = np.reshape(image, [self.img_rows, self.img_cols])\r\n",
        "            plt.imshow(image, cmap='gray')\r\n",
        "            plt.axis('off')\r\n",
        "        plt.tight_layout()\r\n",
        "        if save2file:\r\n",
        "            plt.savefig(filename)\r\n",
        "            plt.close('all')\r\n",
        "        else:\r\n",
        "            plt.show()"
      ],
      "execution_count": 7,
      "outputs": []
    },
    {
      "cell_type": "markdown",
      "metadata": {
        "id": "CP4veBInq6bT"
      },
      "source": [
        "#Uruchomienie działania GANA"
      ]
    },
    {
      "cell_type": "code",
      "metadata": {
        "colab": {
          "base_uri": "https://localhost:8080/",
          "height": 1000
        },
        "id": "UowfKOlSq-vR",
        "outputId": "3c4b891f-bf0b-49e7-bf33-46745afe3afd"
      },
      "source": [
        "mnist_dcgan = MNIST_DCGAN()\r\n",
        "timer = ElapsedTimer()\r\n",
        "mnist_dcgan.train(train_steps=10, batch_size=256, save_interval=500)\r\n",
        "timer.elapsed_time()\r\n",
        "mnist_dcgan.plot_images(fake=True)\r\n",
        "mnist_dcgan.plot_images(fake=False, save2file=True)"
      ],
      "execution_count": 8,
      "outputs": [
        {
          "output_type": "stream",
          "text": [
            "WARNING:tensorflow:From <ipython-input-7-8a96f4fc69e0>:7: read_data_sets (from tensorflow.contrib.learn.python.learn.datasets.mnist) is deprecated and will be removed in a future version.\n",
            "Instructions for updating:\n",
            "Please use alternatives such as official/mnist/dataset.py from tensorflow/models.\n",
            "WARNING:tensorflow:From /usr/local/lib/python3.6/dist-packages/tensorflow/contrib/learn/python/learn/datasets/mnist.py:260: maybe_download (from tensorflow.contrib.learn.python.learn.datasets.base) is deprecated and will be removed in a future version.\n",
            "Instructions for updating:\n",
            "Please write your own downloading logic.\n",
            "WARNING:tensorflow:From /usr/local/lib/python3.6/dist-packages/tensorflow/contrib/learn/python/learn/datasets/base.py:252: _internal_retry.<locals>.wrap.<locals>.wrapped_fn (from tensorflow.contrib.learn.python.learn.datasets.base) is deprecated and will be removed in a future version.\n",
            "Instructions for updating:\n",
            "Please use urllib or similar directly.\n",
            "Successfully downloaded train-images-idx3-ubyte.gz 9912422 bytes.\n",
            "WARNING:tensorflow:From /usr/local/lib/python3.6/dist-packages/tensorflow/contrib/learn/python/learn/datasets/mnist.py:262: extract_images (from tensorflow.contrib.learn.python.learn.datasets.mnist) is deprecated and will be removed in a future version.\n",
            "Instructions for updating:\n",
            "Please use tf.data to implement this functionality.\n",
            "Extracting mnist/train-images-idx3-ubyte.gz\n",
            "Successfully downloaded train-labels-idx1-ubyte.gz 28881 bytes.\n",
            "WARNING:tensorflow:From /usr/local/lib/python3.6/dist-packages/tensorflow/contrib/learn/python/learn/datasets/mnist.py:267: extract_labels (from tensorflow.contrib.learn.python.learn.datasets.mnist) is deprecated and will be removed in a future version.\n",
            "Instructions for updating:\n",
            "Please use tf.data to implement this functionality.\n",
            "Extracting mnist/train-labels-idx1-ubyte.gz\n",
            "WARNING:tensorflow:From /usr/local/lib/python3.6/dist-packages/tensorflow/contrib/learn/python/learn/datasets/mnist.py:110: dense_to_one_hot (from tensorflow.contrib.learn.python.learn.datasets.mnist) is deprecated and will be removed in a future version.\n",
            "Instructions for updating:\n",
            "Please use tf.one_hot on tensors.\n",
            "Successfully downloaded t10k-images-idx3-ubyte.gz 1648877 bytes.\n",
            "Extracting mnist/t10k-images-idx3-ubyte.gz\n",
            "Successfully downloaded t10k-labels-idx1-ubyte.gz 4542 bytes.\n",
            "Extracting mnist/t10k-labels-idx1-ubyte.gz\n",
            "WARNING:tensorflow:From /usr/local/lib/python3.6/dist-packages/tensorflow/contrib/learn/python/learn/datasets/mnist.py:290: DataSet.__init__ (from tensorflow.contrib.learn.python.learn.datasets.mnist) is deprecated and will be removed in a future version.\n",
            "Instructions for updating:\n",
            "Please use alternatives such as official/mnist/dataset.py from tensorflow/models.\n",
            "WARNING:tensorflow:From /usr/local/lib/python3.6/dist-packages/keras/backend/tensorflow_backend.py:1062: calling reduce_prod (from tensorflow.python.ops.math_ops) with keep_dims is deprecated and will be removed in a future version.\n",
            "Instructions for updating:\n",
            "keep_dims is deprecated, use keepdims instead\n",
            "_________________________________________________________________\n",
            "Layer (type)                 Output Shape              Param #   \n",
            "=================================================================\n",
            "conv2d_1 (Conv2D)            (None, 14, 14, 64)        1664      \n",
            "_________________________________________________________________\n",
            "leaky_re_lu_1 (LeakyReLU)    (None, 14, 14, 64)        0         \n",
            "_________________________________________________________________\n",
            "dropout_1 (Dropout)          (None, 14, 14, 64)        0         \n",
            "_________________________________________________________________\n",
            "conv2d_2 (Conv2D)            (None, 7, 7, 128)         204928    \n",
            "_________________________________________________________________\n",
            "leaky_re_lu_2 (LeakyReLU)    (None, 7, 7, 128)         0         \n",
            "_________________________________________________________________\n",
            "dropout_2 (Dropout)          (None, 7, 7, 128)         0         \n",
            "_________________________________________________________________\n",
            "conv2d_3 (Conv2D)            (None, 4, 4, 256)         819456    \n",
            "_________________________________________________________________\n",
            "leaky_re_lu_3 (LeakyReLU)    (None, 4, 4, 256)         0         \n",
            "_________________________________________________________________\n",
            "dropout_3 (Dropout)          (None, 4, 4, 256)         0         \n",
            "_________________________________________________________________\n",
            "conv2d_4 (Conv2D)            (None, 4, 4, 512)         3277312   \n",
            "_________________________________________________________________\n",
            "leaky_re_lu_4 (LeakyReLU)    (None, 4, 4, 512)         0         \n",
            "_________________________________________________________________\n",
            "dropout_4 (Dropout)          (None, 4, 4, 512)         0         \n",
            "_________________________________________________________________\n",
            "flatten_1 (Flatten)          (None, 8192)              0         \n",
            "_________________________________________________________________\n",
            "dense_1 (Dense)              (None, 1)                 8193      \n",
            "_________________________________________________________________\n",
            "activation_1 (Activation)    (None, 1)                 0         \n",
            "=================================================================\n",
            "Total params: 4,311,553.0\n",
            "Trainable params: 4,311,553.0\n",
            "Non-trainable params: 0.0\n",
            "_________________________________________________________________\n",
            "WARNING:tensorflow:From /usr/local/lib/python3.6/dist-packages/keras/backend/tensorflow_backend.py:1123: calling reduce_mean (from tensorflow.python.ops.math_ops) with keep_dims is deprecated and will be removed in a future version.\n",
            "Instructions for updating:\n",
            "keep_dims is deprecated, use keepdims instead\n",
            "_________________________________________________________________\n",
            "Layer (type)                 Output Shape              Param #   \n",
            "=================================================================\n",
            "dense_2 (Dense)              (None, 12544)             1266944   \n",
            "_________________________________________________________________\n",
            "batch_normalization_1 (Batch (None, 12544)             50176     \n",
            "_________________________________________________________________\n",
            "activation_2 (Activation)    (None, 12544)             0         \n",
            "_________________________________________________________________\n",
            "reshape_1 (Reshape)          (None, 7, 7, 256)         0         \n",
            "_________________________________________________________________\n",
            "dropout_5 (Dropout)          (None, 7, 7, 256)         0         \n",
            "_________________________________________________________________\n",
            "up_sampling2d_1 (UpSampling2 (None, 14, 14, 256)       0         \n",
            "_________________________________________________________________\n",
            "conv2d_transpose_1 (Conv2DTr (None, 14, 14, 128)       819328    \n",
            "_________________________________________________________________\n",
            "batch_normalization_2 (Batch (None, 14, 14, 128)       512       \n",
            "_________________________________________________________________\n",
            "activation_3 (Activation)    (None, 14, 14, 128)       0         \n",
            "_________________________________________________________________\n",
            "up_sampling2d_2 (UpSampling2 (None, 28, 28, 128)       0         \n",
            "_________________________________________________________________\n",
            "conv2d_transpose_2 (Conv2DTr (None, 28, 28, 64)        204864    \n",
            "_________________________________________________________________\n",
            "batch_normalization_3 (Batch (None, 28, 28, 64)        256       \n",
            "_________________________________________________________________\n",
            "activation_4 (Activation)    (None, 28, 28, 64)        0         \n",
            "_________________________________________________________________\n",
            "conv2d_transpose_3 (Conv2DTr (None, 28, 28, 32)        51232     \n",
            "_________________________________________________________________\n",
            "batch_normalization_4 (Batch (None, 28, 28, 32)        128       \n",
            "_________________________________________________________________\n",
            "activation_5 (Activation)    (None, 28, 28, 32)        0         \n",
            "_________________________________________________________________\n",
            "conv2d_transpose_4 (Conv2DTr (None, 28, 28, 1)         801       \n",
            "_________________________________________________________________\n",
            "activation_6 (Activation)    (None, 28, 28, 1)         0         \n",
            "=================================================================\n",
            "Total params: 2,394,241.0\n",
            "Trainable params: 2,368,705.0\n",
            "Non-trainable params: 25,536.0\n",
            "_________________________________________________________________\n",
            "WARNING:tensorflow:Variable *= will be deprecated. Use variable.assign_mul if you want assignment to the variable value or 'x = x * y' if you want a new python Tensor object.\n",
            "0: [Discriminator loss: 0.693903, acc: 0.458984]  [Generator loss: 1.896255, acc: 0.000000]\n",
            "1: [Discriminator loss: 0.620087, acc: 0.996094]  [Generator loss: 3.635453, acc: 0.000000]\n",
            "2: [Discriminator loss: 0.471713, acc: 0.867188]  [Generator loss: 1.479591, acc: 0.000000]\n",
            "3: [Discriminator loss: 0.988597, acc: 0.500000]  [Generator loss: 11.182391, acc: 0.000000]\n",
            "4: [Discriminator loss: 0.285932, acc: 0.869141]  [Generator loss: 0.072351, acc: 1.000000]\n",
            "5: [Discriminator loss: 0.600909, acc: 0.558594]  [Generator loss: 8.519281, acc: 0.000000]\n",
            "6: [Discriminator loss: 0.119121, acc: 0.962891]  [Generator loss: 0.034118, acc: 1.000000]\n",
            "7: [Discriminator loss: 0.121332, acc: 0.998047]  [Generator loss: 0.559222, acc: 0.671875]\n",
            "8: [Discriminator loss: 0.155532, acc: 0.984375]  [Generator loss: 0.485565, acc: 0.781250]\n",
            "9: [Discriminator loss: 0.141739, acc: 0.992188]  [Generator loss: 0.039868, acc: 1.000000]\n",
            "Elapsed: 8.784369603792827 min \n"
          ],
          "name": "stdout"
        },
        {
          "output_type": "display_data",
          "data": {
            "image/png": "[encoded data removed]",
            "text/plain": [
              "<Figure size 720x720 with 16 Axes>"
            ]
          },
          "metadata": {
            "tags": [],
            "needs_background": "light"
          }
        }
      ]
    },
    {
      "cell_type": "code",
      "metadata": {
        "id": "fCVJ5SI0rFCz"
      },
      "source": [
        ""
      ],
      "execution_count": 8,
      "outputs": []
    }
  ]
}